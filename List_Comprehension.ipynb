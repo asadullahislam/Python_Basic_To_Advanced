{
 "cells": [
  {
   "cell_type": "markdown",
   "id": "87f604df-f177-4830-8f2c-10f5f2c2eca3",
   "metadata": {},
   "source": [
    "# List comprehension\n"
   ]
  },
  {
   "cell_type": "markdown",
   "id": "ccdeee9b-09f0-4f0c-818e-ba42b68fe7e0",
   "metadata": {},
   "source": [
    "\n",
    "#### List comprehension is a concise and powerful way to create and manipulate lists in Python. It allows you to generate a new list by applying an expression to each element in an existing iterable, optionally including a condition.\n",
    "\n"
   ]
  },
  {
   "cell_type": "code",
   "execution_count": null,
   "id": "aa0699a5-50f0-4984-9d79-993a656e974b",
   "metadata": {},
   "outputs": [],
   "source": [
    "#Basic Syntax\n",
    "[expression for item in iterable if condition]\n"
   ]
  },
  {
   "cell_type": "code",
   "execution_count": 4,
   "id": "a4331596-b8d2-41eb-9236-e2aeb8e2c9e1",
   "metadata": {},
   "outputs": [
    {
     "name": "stdout",
     "output_type": "stream",
     "text": [
      "[1, 4, 9, 16, 25]\n"
     ]
    }
   ],
   "source": [
    "square =[x**2 for x in range(1,6)]\n",
    "print(square)"
   ]
  },
  {
   "cell_type": "code",
   "execution_count": 6,
   "id": "05f089d0-be14-418c-ab22-8a3982fe18db",
   "metadata": {},
   "outputs": [
    {
     "name": "stdout",
     "output_type": "stream",
     "text": [
      "[2, 4, 6, 8, 10]\n"
     ]
    }
   ],
   "source": [
    "#. With a Condition\n",
    "evens=[x for x in range(1,11) if x%2==0]\n",
    "print(evens)"
   ]
  },
  {
   "cell_type": "code",
   "execution_count": 7,
   "id": "229b08c6-a86b-4023-9519-fa36f00f624d",
   "metadata": {},
   "outputs": [
    {
     "data": {
      "text/plain": [
       "['I',\n",
       " ' ',\n",
       " 'l',\n",
       " 'o',\n",
       " 'v',\n",
       " 'e',\n",
       " ' ',\n",
       " 'd',\n",
       " 'a',\n",
       " 't',\n",
       " 'a',\n",
       " ' ',\n",
       " 's',\n",
       " 'c',\n",
       " 'i',\n",
       " 'e',\n",
       " 'n',\n",
       " 'c',\n",
       " 'e']"
      ]
     },
     "execution_count": 7,
     "metadata": {},
     "output_type": "execute_result"
    }
   ],
   "source": [
    "data ='I love data science';\n",
    "[x for x in data]"
   ]
  },
  {
   "cell_type": "code",
   "execution_count": 9,
   "id": "06bd5596-ad98-4554-9c47-e8ae56a35f85",
   "metadata": {},
   "outputs": [
    {
     "data": {
      "text/plain": [
       "[' ',\n",
       " 'l',\n",
       " 'o',\n",
       " 'v',\n",
       " 'e',\n",
       " ' ',\n",
       " 'd',\n",
       " 'a',\n",
       " 't',\n",
       " 'a',\n",
       " ' ',\n",
       " 's',\n",
       " 'c',\n",
       " 'i',\n",
       " 'e',\n",
       " 'n',\n",
       " 'c',\n",
       " 'e']"
      ]
     },
     "execution_count": 9,
     "metadata": {},
     "output_type": "execute_result"
    }
   ],
   "source": [
    "#condition\n",
    "[x for x in data if x!='I']"
   ]
  },
  {
   "cell_type": "markdown",
   "id": "f118d892-c347-4486-ad8b-376d7e5d9896",
   "metadata": {},
   "source": [
    "# creating a Matrix using List Comprehension in Python "
   ]
  },
  {
   "cell_type": "code",
   "execution_count": 11,
   "id": "5efc8205-d308-4a2a-9e2f-143ba611bb5d",
   "metadata": {},
   "outputs": [
    {
     "name": "stdout",
     "output_type": "stream",
     "text": [
      "[[0, 1, 2, 3, 4], [0, 1, 2, 3, 4], [0, 1, 2, 3, 4]]\n"
     ]
    }
   ],
   "source": [
    "matrix=[[j for j in range(5)] for i in range(3)];\n",
    "print(matrix);"
   ]
  },
  {
   "cell_type": "markdown",
   "id": "73203a5b-593f-49aa-add9-a0af5a8022f1",
   "metadata": {},
   "source": [
    "# Using  function in List Comprehensions "
   ]
  },
  {
   "cell_type": "code",
   "execution_count": 12,
   "id": "bf0adab9-2b6e-4a9c-859c-0223e0fb9e97",
   "metadata": {},
   "outputs": [
    {
     "name": "stdout",
     "output_type": "stream",
     "text": [
      "[6, 4, 13, 7]\n"
     ]
    }
   ],
   "source": [
    "words=['python','list','comprehension','example']\n",
    "lengths=[len(word) for word in words];\n",
    "print(lengths)"
   ]
  }
 ],
 "metadata": {
  "kernelspec": {
   "display_name": "Python 3 (ipykernel)",
   "language": "python",
   "name": "python3"
  },
  "language_info": {
   "codemirror_mode": {
    "name": "ipython",
    "version": 3
   },
   "file_extension": ".py",
   "mimetype": "text/x-python",
   "name": "python",
   "nbconvert_exporter": "python",
   "pygments_lexer": "ipython3",
   "version": "3.11.2"
  }
 },
 "nbformat": 4,
 "nbformat_minor": 5
}
