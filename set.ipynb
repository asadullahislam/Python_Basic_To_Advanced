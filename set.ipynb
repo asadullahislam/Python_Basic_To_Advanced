{
 "cells": [
  {
   "cell_type": "markdown",
   "id": "00eb6cb8-2b82-40ab-ba42-cc844c0266c3",
   "metadata": {},
   "source": [
    "# set in python \n"
   ]
  },
  {
   "cell_type": "code",
   "execution_count": 1,
   "id": "46086753-3291-4a99-99ee-c429615d2e71",
   "metadata": {},
   "outputs": [
    {
     "data": {
      "text/plain": [
       "{1, 4, 5, 6, 23}"
      ]
     },
     "execution_count": 1,
     "metadata": {},
     "output_type": "execute_result"
    }
   ],
   "source": [
    "set1= {1,23,4,5,6};\n",
    "set1"
   ]
  },
  {
   "cell_type": "code",
   "execution_count": null,
   "id": "f8279e1f",
   "metadata": {},
   "outputs": [],
   "source": []
  },
  {
   "cell_type": "code",
   "execution_count": 3,
   "id": "d3ea4997-7d76-46e9-95dd-f4c916b80888",
   "metadata": {},
   "outputs": [
    {
     "data": {
      "text/plain": [
       "True"
      ]
     },
     "execution_count": 3,
     "metadata": {},
     "output_type": "execute_result"
    }
   ],
   "source": [
    "1 in set1\n"
   ]
  },
  {
   "cell_type": "code",
   "execution_count": 7,
   "id": "8ce752b5-bd07-4d2d-8ff5-10c7ad3c7257",
   "metadata": {},
   "outputs": [],
   "source": [
    "set1.add(7)"
   ]
  },
  {
   "cell_type": "code",
   "execution_count": 8,
   "id": "bbf43435-2f88-4fd8-a4c3-6cda0043e802",
   "metadata": {},
   "outputs": [
    {
     "data": {
      "text/plain": [
       "{1, 4, 5, 6, 7, 23}"
      ]
     },
     "execution_count": 8,
     "metadata": {},
     "output_type": "execute_result"
    }
   ],
   "source": [
    "set1"
   ]
  },
  {
   "cell_type": "code",
   "execution_count": null,
   "id": "db272dcd-4f1a-4063-bf25-384ea7046a72",
   "metadata": {},
   "outputs": [],
   "source": [
    "set1."
   ]
  }
 ],
 "metadata": {
  "kernelspec": {
   "display_name": "Python 3 (ipykernel)",
   "language": "python",
   "name": "python3"
  },
  "language_info": {
   "codemirror_mode": {
    "name": "ipython",
    "version": 3
   },
   "file_extension": ".py",
   "mimetype": "text/x-python",
   "name": "python",
   "nbconvert_exporter": "python",
   "pygments_lexer": "ipython3",
   "version": "3.11.2"
  }
 },
 "nbformat": 4,
 "nbformat_minor": 5
}
