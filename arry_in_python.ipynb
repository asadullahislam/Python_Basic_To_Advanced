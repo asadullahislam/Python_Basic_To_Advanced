{
 "cells": [
  {
   "cell_type": "markdown",
   "id": "5545d33c-9101-40c0-b2f9-77ddeec51ade",
   "metadata": {},
   "source": [
    "# Array in Python"
   ]
  },
  {
   "cell_type": "code",
   "execution_count": 1,
   "id": "3cb839f8-8735-491d-b7a6-491b43b01a70",
   "metadata": {},
   "outputs": [],
   "source": [
    "import array as ar\n"
   ]
  },
  {
   "cell_type": "code",
   "execution_count": 2,
   "id": "1cc67266-075d-47e2-9052-8c41b21a41a9",
   "metadata": {},
   "outputs": [],
   "source": [
    "ar1=ar.array('i',[1,2,3,4,5])"
   ]
  },
  {
   "cell_type": "code",
   "execution_count": 3,
   "id": "8fe6960e-7f51-43e4-af50-872ca90eefc9",
   "metadata": {},
   "outputs": [
    {
     "data": {
      "text/plain": [
       "array('i', [1, 2, 3, 4, 5])"
      ]
     },
     "execution_count": 3,
     "metadata": {},
     "output_type": "execute_result"
    }
   ],
   "source": [
    "ar1"
   ]
  },
  {
   "cell_type": "code",
   "execution_count": 4,
   "id": "0b76ea05-0bf8-46fd-af6d-720d13361e1a",
   "metadata": {},
   "outputs": [
    {
     "data": {
      "text/plain": [
       "1"
      ]
     },
     "execution_count": 4,
     "metadata": {},
     "output_type": "execute_result"
    }
   ],
   "source": [
    "ar1[0]"
   ]
  },
  {
   "cell_type": "code",
   "execution_count": 6,
   "id": "f3148774-c751-44d4-9724-22e9c1613e4d",
   "metadata": {},
   "outputs": [],
   "source": [
    "ar1.append(8)"
   ]
  },
  {
   "cell_type": "code",
   "execution_count": 7,
   "id": "1ec39ca6-0606-4a5d-b777-0a83650f0724",
   "metadata": {},
   "outputs": [
    {
     "data": {
      "text/plain": [
       "array('i', [1, 2, 3, 4, 5, 8])"
      ]
     },
     "execution_count": 7,
     "metadata": {},
     "output_type": "execute_result"
    }
   ],
   "source": [
    "ar1"
   ]
  },
  {
   "cell_type": "code",
   "execution_count": 9,
   "id": "8d5940d2-e41a-493f-8f45-3dbd4f89e20d",
   "metadata": {},
   "outputs": [],
   "source": [
    "del ar1[-2]"
   ]
  },
  {
   "cell_type": "code",
   "execution_count": 10,
   "id": "e1477810-9c6c-4149-8623-7c9d6c348e56",
   "metadata": {},
   "outputs": [
    {
     "data": {
      "text/plain": [
       "array('i', [1, 2, 3, 4, 8])"
      ]
     },
     "execution_count": 10,
     "metadata": {},
     "output_type": "execute_result"
    }
   ],
   "source": [
    "ar1"
   ]
  },
  {
   "cell_type": "code",
   "execution_count": 11,
   "id": "19153c0d-0fa0-4db5-ad49-6e7746b1570b",
   "metadata": {},
   "outputs": [],
   "source": [
    "ar1.reverse()"
   ]
  },
  {
   "cell_type": "code",
   "execution_count": null,
   "id": "23e4c05f-20d6-4ef2-b3b7-3f601e5b82e9",
   "metadata": {},
   "outputs": [],
   "source": [
    "ar1.sort()"
   ]
  },
  {
   "cell_type": "code",
   "execution_count": 12,
   "id": "149f95e2-ea9d-4a23-ac74-86903ea1f3e1",
   "metadata": {},
   "outputs": [
    {
     "data": {
      "text/plain": [
       "array('i', [8, 4, 3, 2, 1])"
      ]
     },
     "execution_count": 12,
     "metadata": {},
     "output_type": "execute_result"
    }
   ],
   "source": [
    "ar1"
   ]
  },
  {
   "cell_type": "code",
   "execution_count": 14,
   "id": "b595727c-a1a2-4cf6-8ab0-bc66663d10d6",
   "metadata": {},
   "outputs": [
    {
     "data": {
      "text/plain": [
       "1"
      ]
     },
     "execution_count": 14,
     "metadata": {},
     "output_type": "execute_result"
    }
   ],
   "source": [
    "ar1.count(1)"
   ]
  },
  {
   "cell_type": "code",
   "execution_count": 18,
   "id": "69d2b12e-ae18-4765-844f-5da547220651",
   "metadata": {},
   "outputs": [
    {
     "data": {
      "text/plain": [
       "1"
      ]
     },
     "execution_count": 18,
     "metadata": {},
     "output_type": "execute_result"
    }
   ],
   "source": [
    "ar1.pop()"
   ]
  },
  {
   "cell_type": "code",
   "execution_count": 19,
   "id": "da0ec3e2-557b-43c9-aa22-166f95b59153",
   "metadata": {},
   "outputs": [
    {
     "data": {
      "text/plain": [
       "array('i', [8, 4, 3, 2])"
      ]
     },
     "execution_count": 19,
     "metadata": {},
     "output_type": "execute_result"
    }
   ],
   "source": [
    "ar1"
   ]
  },
  {
   "cell_type": "code",
   "execution_count": 20,
   "id": "df70d7b4-5d4a-4375-9eff-6f65133afe2b",
   "metadata": {},
   "outputs": [],
   "source": [
    "ar1.remove(4)"
   ]
  },
  {
   "cell_type": "code",
   "execution_count": 21,
   "id": "cc5653d3-0195-4dd7-87ca-8f0aadbaea8b",
   "metadata": {},
   "outputs": [
    {
     "data": {
      "text/plain": [
       "array('i', [8, 3, 2])"
      ]
     },
     "execution_count": 21,
     "metadata": {},
     "output_type": "execute_result"
    }
   ],
   "source": [
    "ar1"
   ]
  },
  {
   "cell_type": "code",
   "execution_count": 26,
   "id": "590058c5-7112-4e8b-a167-de7f87aaedb2",
   "metadata": {},
   "outputs": [
    {
     "name": "stdin",
     "output_type": "stream",
     "text": [
      " 3\n",
      " 1\n",
      " 2\n",
      " 3\n"
     ]
    },
    {
     "name": "stdout",
     "output_type": "stream",
     "text": [
      "array('i', [1, 2, 3])\n"
     ]
    }
   ],
   "source": [
    "r= ar.array('i',[]);\n",
    "items =int(input())\n",
    "for i in range(items):\n",
    "     val=int(input())\n",
    "     r.append(val);\n",
    "\n",
    "print(r);"
   ]
  }
 ],
 "metadata": {
  "kernelspec": {
   "display_name": "Python 3 (ipykernel)",
   "language": "python",
   "name": "python3"
  },
  "language_info": {
   "codemirror_mode": {
    "name": "ipython",
    "version": 3
   },
   "file_extension": ".py",
   "mimetype": "text/x-python",
   "name": "python",
   "nbconvert_exporter": "python",
   "pygments_lexer": "ipython3",
   "version": "3.11.2"
  }
 },
 "nbformat": 4,
 "nbformat_minor": 5
}
