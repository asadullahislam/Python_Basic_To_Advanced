{
 "cells": [
  {
   "cell_type": "markdown",
   "id": "2b7c7e8f-3e32-48e1-a66e-f42f09965b45",
   "metadata": {},
   "source": [
    "# Ditionary in python "
   ]
  },
  {
   "cell_type": "code",
   "execution_count": 8,
   "id": "55c4eae0-70ac-46b2-8a33-04eb34f9ae00",
   "metadata": {},
   "outputs": [],
   "source": [
    "dic ={\n",
    "     'name':'asad',\n",
    "    'versity':'MEC'\n",
    "}"
   ]
  },
  {
   "cell_type": "code",
   "execution_count": 9,
   "id": "30411dce-12c6-4c85-ae52-8089bd0e5ae0",
   "metadata": {},
   "outputs": [
    {
     "data": {
      "text/plain": [
       "{'name': 'asad', 'versity': 'MEC'}"
      ]
     },
     "execution_count": 9,
     "metadata": {},
     "output_type": "execute_result"
    }
   ],
   "source": [
    "dic"
   ]
  },
  {
   "cell_type": "code",
   "execution_count": 11,
   "id": "f814560e-2fb7-4ee4-b634-6db18b82f43f",
   "metadata": {},
   "outputs": [
    {
     "data": {
      "text/plain": [
       "dict_keys(['name', 'versity'])"
      ]
     },
     "execution_count": 11,
     "metadata": {},
     "output_type": "execute_result"
    }
   ],
   "source": [
    "dic.keys()"
   ]
  },
  {
   "cell_type": "code",
   "execution_count": 12,
   "id": "861ffd62-54be-4773-bd11-fa2fc07d2a1b",
   "metadata": {},
   "outputs": [
    {
     "data": {
      "text/plain": [
       "dict_values(['asad', 'MEC'])"
      ]
     },
     "execution_count": 12,
     "metadata": {},
     "output_type": "execute_result"
    }
   ],
   "source": [
    "dic.values()"
   ]
  },
  {
   "cell_type": "code",
   "execution_count": 14,
   "id": "d8653c06-7659-4a15-894a-4043eec0ea65",
   "metadata": {},
   "outputs": [],
   "source": [
    "\n",
    "#copy\n",
    "dic1 = dic.copy();"
   ]
  },
  {
   "cell_type": "code",
   "execution_count": 15,
   "id": "37851a0f-db7c-45b0-bcac-d19ced6cc77f",
   "metadata": {},
   "outputs": [
    {
     "data": {
      "text/plain": [
       "{'name': 'asad', 'versity': 'MEC'}"
      ]
     },
     "execution_count": 15,
     "metadata": {},
     "output_type": "execute_result"
    }
   ],
   "source": [
    "dic1"
   ]
  },
  {
   "cell_type": "code",
   "execution_count": 16,
   "id": "d96026f6-ab94-4f40-8c09-76b482c21823",
   "metadata": {},
   "outputs": [],
   "source": [
    "#assign new  key and values \n",
    "dic1['dept']='Data Science'"
   ]
  },
  {
   "cell_type": "code",
   "execution_count": 17,
   "id": "3aaa5204-a9a9-4671-b9bf-f76979a771c1",
   "metadata": {},
   "outputs": [
    {
     "data": {
      "text/plain": [
       "{'name': 'asad', 'versity': 'MEC', 'dept': 'Data Science'}"
      ]
     },
     "execution_count": 17,
     "metadata": {},
     "output_type": "execute_result"
    }
   ],
   "source": [
    "dic1"
   ]
  },
  {
   "cell_type": "code",
   "execution_count": 20,
   "id": "43613554-7b06-463b-9d4c-ce61698b5bfd",
   "metadata": {},
   "outputs": [],
   "source": [
    "#update value \n",
    "dic1.update({'dept':'CSE'})"
   ]
  },
  {
   "cell_type": "code",
   "execution_count": 21,
   "id": "f75486a9-18ca-4d28-b5ed-94d8dac73a92",
   "metadata": {},
   "outputs": [
    {
     "data": {
      "text/plain": [
       "{'name': 'asad', 'versity': 'MEC', 'dept': 'CSE'}"
      ]
     },
     "execution_count": 21,
     "metadata": {},
     "output_type": "execute_result"
    }
   ],
   "source": [
    "dic1\n"
   ]
  },
  {
   "cell_type": "code",
   "execution_count": 22,
   "id": "efd7d3c2-b9f6-4ce2-b415-2a2f84ddca50",
   "metadata": {},
   "outputs": [
    {
     "data": {
      "text/plain": [
       "'MEC'"
      ]
     },
     "execution_count": 22,
     "metadata": {},
     "output_type": "execute_result"
    }
   ],
   "source": [
    "#remove an item \n",
    "dic1.pop('versity')"
   ]
  },
  {
   "cell_type": "code",
   "execution_count": 23,
   "id": "87bd435e-3519-463f-9734-822a4f21770f",
   "metadata": {},
   "outputs": [
    {
     "data": {
      "text/plain": [
       "{'name': 'asad', 'dept': 'CSE'}"
      ]
     },
     "execution_count": 23,
     "metadata": {},
     "output_type": "execute_result"
    }
   ],
   "source": [
    "dic1"
   ]
  },
  {
   "cell_type": "code",
   "execution_count": 25,
   "id": "657d76c5-3ee6-4f6e-adfa-621940f5133c",
   "metadata": {},
   "outputs": [],
   "source": [
    "#del use to delete \n",
    "del dic1['name']"
   ]
  },
  {
   "cell_type": "code",
   "execution_count": 26,
   "id": "7dc0662b-6b0c-4329-8746-edf5c0c751fe",
   "metadata": {},
   "outputs": [
    {
     "data": {
      "text/plain": [
       "{'dept': 'CSE'}"
      ]
     },
     "execution_count": 26,
     "metadata": {},
     "output_type": "execute_result"
    }
   ],
   "source": [
    "dic1"
   ]
  },
  {
   "cell_type": "code",
   "execution_count": 27,
   "id": "fe0b64ad-1cb3-420a-b0c8-1ca2235f04a3",
   "metadata": {},
   "outputs": [],
   "source": [
    "dic2=dic.copy()"
   ]
  },
  {
   "cell_type": "code",
   "execution_count": 28,
   "id": "c640af9f-9810-46df-85c6-7f874554661a",
   "metadata": {},
   "outputs": [
    {
     "data": {
      "text/plain": [
       "{'name': 'asad', 'versity': 'MEC', 'dept': 'CES'}"
      ]
     },
     "execution_count": 28,
     "metadata": {},
     "output_type": "execute_result"
    }
   ],
   "source": [
    "dic2"
   ]
  },
  {
   "cell_type": "code",
   "execution_count": 29,
   "id": "c9c6e05d-25f7-4072-b5cf-2ad41d569c46",
   "metadata": {},
   "outputs": [
    {
     "name": "stdout",
     "output_type": "stream",
     "text": [
      "asad\n",
      "MEC\n",
      "CES\n"
     ]
    }
   ],
   "source": [
    "#loop in dictionary\n",
    "#show value \n",
    "for x in dic2:\n",
    "    print(dic[x])"
   ]
  },
  {
   "cell_type": "code",
   "execution_count": 30,
   "id": "9d41da4b-c935-49f8-a4ba-2992033e77dd",
   "metadata": {},
   "outputs": [
    {
     "name": "stdout",
     "output_type": "stream",
     "text": [
      "name\n",
      "versity\n",
      "dept\n"
     ]
    }
   ],
   "source": [
    "#loop in dictionary\n",
    "#show  keys\n",
    "for x in dic2:\n",
    "    print(x)"
   ]
  },
  {
   "cell_type": "code",
   "execution_count": 31,
   "id": "8ee18b3f-481c-4bc4-92fa-fea75c060aa4",
   "metadata": {},
   "outputs": [],
   "source": [
    "#dictinary to convert list \n",
    "d2=list(dic2.keys())"
   ]
  },
  {
   "cell_type": "code",
   "execution_count": 32,
   "id": "fc3ca97c-10ae-4c2e-8e82-f8c53730d9cf",
   "metadata": {},
   "outputs": [
    {
     "data": {
      "text/plain": [
       "['name', 'versity', 'dept']"
      ]
     },
     "execution_count": 32,
     "metadata": {},
     "output_type": "execute_result"
    }
   ],
   "source": [
    "d2"
   ]
  },
  {
   "cell_type": "code",
   "execution_count": 34,
   "id": "0db65cd5-bbe1-47c0-99ce-766520509e18",
   "metadata": {},
   "outputs": [
    {
     "name": "stdin",
     "output_type": "stream",
     "text": [
      " 3\n",
      " name \n",
      " joy\n",
      " dept\n",
      " data science\n",
      " versity\n",
      " MEc\n"
     ]
    },
    {
     "name": "stdout",
     "output_type": "stream",
     "text": [
      "{'name ': 'joy', 'dept': 'data science', 'versity': 'MEc'}\n"
     ]
    }
   ],
   "source": [
    "#dic from user input \n",
    "n=int(input());\n",
    "d={};\n",
    "for i in range(n):\n",
    "    key= input()\n",
    "    value= input();\n",
    "    d[key]=value;\n",
    "print(d);\n"
   ]
  }
 ],
 "metadata": {
  "kernelspec": {
   "display_name": "Python 3 (ipykernel)",
   "language": "python",
   "name": "python3"
  },
  "language_info": {
   "codemirror_mode": {
    "name": "ipython",
    "version": 3
   },
   "file_extension": ".py",
   "mimetype": "text/x-python",
   "name": "python",
   "nbconvert_exporter": "python",
   "pygments_lexer": "ipython3",
   "version": "3.11.2"
  }
 },
 "nbformat": 4,
 "nbformat_minor": 5
}
