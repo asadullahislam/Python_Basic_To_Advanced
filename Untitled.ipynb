{
 "cells": [
  {
   "cell_type": "code",
   "execution_count": 3,
   "id": "f00f22d7-80e3-4e88-9f1a-0ee78603d34c",
   "metadata": {},
   "outputs": [
    {
     "name": "stdout",
     "output_type": "stream",
     "text": [
      "hello\n"
     ]
    }
   ],
   "source": [
    "print('hello')\n",
    "\n",
    "\n"
   ]
  },
  {
   "cell_type": "code",
   "execution_count": 16,
   "id": "21483593-0963-4de1-b574-6f02a5d577e4",
   "metadata": {},
   "outputs": [
    {
     "name": "stdout",
     "output_type": "stream",
     "text": [
      "y is greater than x\n"
     ]
    }
   ],
   "source": [
    "list1=[1,2,3,4,5,6,7]\n",
    "\n",
    "1 in list1\n",
    "x=50;\n",
    "y=100;\n",
    "if y>x:\n",
    "    print('y is greater than x');"
   ]
  },
  {
   "cell_type": "code",
   "execution_count": 23,
   "id": "0c300131-d132-4943-85e7-04000f5146ed",
   "metadata": {},
   "outputs": [
    {
     "name": "stdout",
     "output_type": "stream",
     "text": [
      "y is greater than x\n"
     ]
    }
   ],
   "source": [
    "x=50;\n",
    "y=100;\n",
    "if y>x:\n",
    "    print('y is greater than x');\n",
    "else:\n",
    "    print(\"x is greather than y\")"
   ]
  },
  {
   "cell_type": "code",
   "execution_count": 26,
   "id": "c36ca95f-8589-4b72-8020-ba14fa161d74",
   "metadata": {},
   "outputs": [
    {
     "name": "stdout",
     "output_type": "stream",
     "text": [
      "Enter the length of rectangle 1.22\n",
      "Enter the breadth of rectangle 2\n"
     ]
    },
    {
     "name": "stdout",
     "output_type": "stream",
     "text": [
      "It is not square\n"
     ]
    },
    {
     "name": "stdout",
     "output_type": "stream",
     "text": [
      " 1\n",
      " 3\n",
      " 4\n"
     ]
    },
    {
     "name": "stdout",
     "output_type": "stream",
     "text": [
      "1 3 4\n"
     ]
    }
   ],
   "source": [
    "#1\n",
    "l=input(\"Enter the length of rectangle\");\n",
    "b=input(\"Enter the breadth of rectangle\");\n",
    "if l==b:\n",
    "    print(\"It is square\");\n",
    "else:\n",
    "    print(\"It is not square\");\n",
    "\n",
    "#2\n",
    "\n",
    "a=int(input());\n",
    "b=int(input());\n",
    "c=int(input());\n",
    "print(a,b,c)\n",
    "    \n"
   ]
  },
  {
   "cell_type": "code",
   "execution_count": null,
   "id": "e7d16ba2",
   "metadata": {},
   "outputs": [],
   "source": []
  },
  {
   "cell_type": "code",
   "execution_count": null,
   "id": "23135c8a",
   "metadata": {},
   "outputs": [],
   "source": []
  },
  {
   "cell_type": "markdown",
   "id": "48871b7b-8857-47eb-9848-bce30e701a62",
   "metadata": {},
   "source": [
    "\n",
    "\n",
    "\n",
    "\n",
    "\n",
    "\n"
   ]
  },
  {
   "cell_type": "code",
   "execution_count": null,
   "id": "28148825",
   "metadata": {},
   "outputs": [],
   "source": []
  },
  {
   "cell_type": "code",
   "execution_count": 33,
   "id": "e951e8a4-0967-4d93-9dee-2a8b1751e91b",
   "metadata": {},
   "outputs": [
    {
     "name": "stdout",
     "output_type": "stream",
     "text": [
      " 1 \n",
      " 2\n",
      " 3\n"
     ]
    },
    {
     "name": "stdout",
     "output_type": "stream",
     "text": [
      "C is the largest number\n"
     ]
    }
   ],
   "source": [
    "#2\n",
    "a=int(input());\n",
    "b=int(input());\n",
    "c=int(input());\n",
    "\n",
    "if a>b and a>c:\n",
    "    print('a is the largest number');\n",
    "if b>a and b>c: \n",
    "    print('b is the largest number');\n",
    "\n",
    "else: \n",
    "    print('C is the largest number');"
   ]
  },
  {
   "cell_type": "code",
   "execution_count": null,
   "id": "bf9cbfe4-a5f0-41bf-bd69-bc7255908170",
   "metadata": {},
   "outputs": [],
   "source": [
    "#3\n"
   ]
  }
 ],
 "metadata": {
  "kernelspec": {
   "display_name": "Python 3 (ipykernel)",
   "language": "python",
   "name": "python3"
  },
  "language_info": {
   "codemirror_mode": {
    "name": "ipython",
    "version": 3
   },
   "file_extension": ".py",
   "mimetype": "text/x-python",
   "name": "python",
   "nbconvert_exporter": "python",
   "pygments_lexer": "ipython3",
   "version": "3.11.2"
  }
 },
 "nbformat": 4,
 "nbformat_minor": 5
}
