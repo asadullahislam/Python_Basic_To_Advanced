{
 "cells": [
  {
   "cell_type": "markdown",
   "id": "006bca4d-d09c-48d4-8106-ef10168e0094",
   "metadata": {},
   "source": [
    "# List in Python"
   ]
  },
  {
   "cell_type": "code",
   "execution_count": 6,
   "id": "284f2744-304f-4125-b334-3a5c295b8f53",
   "metadata": {},
   "outputs": [
    {
     "data": {
      "text/plain": [
       "5"
      ]
     },
     "execution_count": 6,
     "metadata": {},
     "output_type": "execute_result"
    }
   ],
   "source": [
    "l1=[1,2,3,4,5]\n",
    "type(l1)\n",
    "len(l1)"
   ]
  },
  {
   "cell_type": "code",
   "execution_count": 11,
   "id": "37a0a3ec-de73-4cb4-9caf-831e104fe06e",
   "metadata": {},
   "outputs": [
    {
     "name": "stdout",
     "output_type": "stream",
     "text": [
      "1\n",
      "2\n",
      "3\n",
      "4\n",
      "5\n"
     ]
    }
   ],
   "source": [
    " l1[0]\n",
    "for i in l1:\n",
    "    print(i)"
   ]
  },
  {
   "cell_type": "code",
   "execution_count": 16,
   "id": "057ed7a7-c8d5-400d-9b82-d954dd92caf4",
   "metadata": {},
   "outputs": [
    {
     "name": "stdout",
     "output_type": "stream",
     "text": [
      "1\n",
      "2\n",
      "3\n",
      "4\n",
      "5\n"
     ]
    }
   ],
   "source": [
    "# Define a list\n",
    "my_list = [1, 2, 3, 4, 5]\n",
    "\n",
    "# Loop through the list\n",
    "for item in my_list:\n",
    "    print(item)\n",
    "\n",
    "\n",
    "my_list.append(6)"
   ]
  },
  {
   "cell_type": "markdown",
   "id": "15b7198b-99f0-49cb-b500-8a208751b5e4",
   "metadata": {},
   "source": [
    "my_list\n",
    "\n",
    "\n",
    "# remove last element\n",
    "my_list.pop()"
   ]
  },
  {
   "cell_type": "code",
   "execution_count": 20,
   "id": "882730d2-8746-4380-88be-ab1c48305481",
   "metadata": {},
   "outputs": [
    {
     "data": {
      "text/plain": [
       "[1, 2, 3, 4]"
      ]
     },
     "execution_count": 20,
     "metadata": {},
     "output_type": "execute_result"
    }
   ],
   "source": [
    "my_list.pop()\n",
    "my_list"
   ]
  },
  {
   "cell_type": "code",
   "execution_count": 22,
   "id": "f8edbe15-48e3-4b9d-b9a5-8cb5073daa84",
   "metadata": {},
   "outputs": [
    {
     "data": {
      "text/plain": [
       "3"
      ]
     },
     "execution_count": 22,
     "metadata": {},
     "output_type": "execute_result"
    }
   ],
   "source": [
    "#specific index delete\n",
    "my_list.pop(2)"
   ]
  },
  {
   "cell_type": "code",
   "execution_count": 23,
   "id": "8d51f139-50b8-4dbd-b49a-2f0a7496e17e",
   "metadata": {},
   "outputs": [
    {
     "data": {
      "text/plain": [
       "[1, 2, 4]"
      ]
     },
     "execution_count": 23,
     "metadata": {},
     "output_type": "execute_result"
    }
   ],
   "source": [
    "my_list"
   ]
  },
  {
   "cell_type": "markdown",
   "id": "364b86ea-fd31-463b-8a6b-80c9cf107f47",
   "metadata": {},
   "source": [
    "# creaing a list using list constructor"
   ]
  },
  {
   "cell_type": "code",
   "execution_count": 25,
   "id": "2e295a4b-2373-4448-b2d3-a9f26e5cedb6",
   "metadata": {},
   "outputs": [],
   "source": [
    "l2=list(('ái',1,3,4,5,(6,7,8)))\n"
   ]
  },
  {
   "cell_type": "code",
   "execution_count": 26,
   "id": "378819fa-64e7-4cf5-80df-c23f17e7b11b",
   "metadata": {},
   "outputs": [
    {
     "data": {
      "text/plain": [
       "['ái', 1, 3, 4, 5, (6, 7, 8)]"
      ]
     },
     "execution_count": 26,
     "metadata": {},
     "output_type": "execute_result"
    }
   ],
   "source": [
    "l2\n"
   ]
  },
  {
   "cell_type": "markdown",
   "id": "3efd891f-2187-40f8-9b6f-c16fe4ac1821",
   "metadata": {},
   "source": [
    "# input list from user"
   ]
  },
  {
   "cell_type": "code",
   "execution_count": 28,
   "id": "af19008f-2980-4103-b5b6-58fff230f700",
   "metadata": {},
   "outputs": [
    {
     "name": "stdin",
     "output_type": "stream",
     "text": [
      "Enter your total index 3\n",
      " 1\n"
     ]
    },
    {
     "name": "stdout",
     "output_type": "stream",
     "text": [
      "['1']\n"
     ]
    },
    {
     "name": "stdin",
     "output_type": "stream",
     "text": [
      " 2\n"
     ]
    },
    {
     "name": "stdout",
     "output_type": "stream",
     "text": [
      "['1', '2']\n"
     ]
    },
    {
     "name": "stdin",
     "output_type": "stream",
     "text": [
      " 3\n"
     ]
    },
    {
     "name": "stdout",
     "output_type": "stream",
     "text": [
      "['1', '2', '3']\n",
      "['1', '2', '3']\n"
     ]
    }
   ],
   "source": [
    "l3=[];\n",
    "n= int(input('Enter your total index'));\n",
    "\n",
    "for i in range(n):\n",
    "    new= input();\n",
    "    l3.append(new);\n",
    "    print(l3);\n",
    "\n",
    "print('Final list is :',l3);"
   ]
  }
 ],
 "metadata": {
  "kernelspec": {
   "display_name": "Python 3 (ipykernel)",
   "language": "python",
   "name": "python3"
  },
  "language_info": {
   "codemirror_mode": {
    "name": "ipython",
    "version": 3
   },
   "file_extension": ".py",
   "mimetype": "text/x-python",
   "name": "python",
   "nbconvert_exporter": "python",
   "pygments_lexer": "ipython3",
   "version": "3.11.2"
  }
 },
 "nbformat": 4,
 "nbformat_minor": 5
}
