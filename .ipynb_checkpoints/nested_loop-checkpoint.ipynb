{
 "cells": [
  {
   "cell_type": "code",
   "execution_count": 23,
   "id": "0dddf746-18df-440c-9eeb-c5dec21524a5",
   "metadata": {},
   "outputs": [
    {
     "name": "stdout",
     "output_type": "stream",
     "text": [
      "#\n",
      "##\n",
      "###\n",
      "####\n"
     ]
    }
   ],
   "source": [
    "\n",
    " rows=4;\n",
    "#outer loop\n",
    "for x in range(1,rows+1):\n",
    "    for y in range(1,x+1):\n",
    "        print('#',end=' ')\n",
    "    print('');\n",
    "     "
   ]
  }
 ],
 "metadata": {
  "kernelspec": {
   "display_name": "Python 3 (ipykernel)",
   "language": "python",
   "name": "python3"
  },
  "language_info": {
   "codemirror_mode": {
    "name": "ipython",
    "version": 3
   },
   "file_extension": ".py",
   "mimetype": "text/x-python",
   "name": "python",
   "nbconvert_exporter": "python",
   "pygments_lexer": "ipython3",
   "version": "3.11.2"
  }
 },
 "nbformat": 4,
 "nbformat_minor": 5
}
