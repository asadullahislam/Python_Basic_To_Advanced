{
 "cells": [
  {
   "cell_type": "markdown",
   "id": "006bca4d-d09c-48d4-8106-ef10168e0094",
   "metadata": {},
   "source": [
    "# List in Python"
   ]
  },
  {
   "cell_type": "code",
   "execution_count": 6,
   "id": "284f2744-304f-4125-b334-3a5c295b8f53",
   "metadata": {},
   "outputs": [
    {
     "data": {
      "text/plain": [
       "5"
      ]
     },
     "execution_count": 6,
     "metadata": {},
     "output_type": "execute_result"
    }
   ],
   "source": [
    "l1=[1,2,3,4,5]\n",
    "type(l1)\n",
    "len(l1)"
   ]
  },
  {
   "cell_type": "code",
   "execution_count": 11,
   "id": "37a0a3ec-de73-4cb4-9caf-831e104fe06e",
   "metadata": {},
   "outputs": [
    {
     "name": "stdout",
     "output_type": "stream",
     "text": [
      "1\n",
      "2\n",
      "3\n",
      "4\n",
      "5\n"
     ]
    }
   ],
   "source": [
    " l1[0]\n",
    "for i in l1:\n",
    "    print(i)"
   ]
  },
  {
   "cell_type": "code",
   "execution_count": 16,
   "id": "057ed7a7-c8d5-400d-9b82-d954dd92caf4",
   "metadata": {},
   "outputs": [
    {
     "name": "stdout",
     "output_type": "stream",
     "text": [
      "1\n",
      "2\n",
      "3\n",
      "4\n",
      "5\n"
     ]
    }
   ],
   "source": [
    "# Define a list\n",
    "my_list = [1, 2, 3, 4, 5]\n",
    "\n",
    "# Loop through the list\n",
    "for item in my_list:\n",
    "    print(item)\n",
    "\n",
    "\n",
    "my_list.append(6)"
   ]
  },
  {
   "cell_type": "markdown",
   "id": "15b7198b-99f0-49cb-b500-8a208751b5e4",
   "metadata": {},
   "source": [
    "my_list\n",
    "\n",
    "\n",
    "# remove last element\n",
    "my_list.pop()"
   ]
  },
  {
   "cell_type": "code",
   "execution_count": 20,
   "id": "882730d2-8746-4380-88be-ab1c48305481",
   "metadata": {},
   "outputs": [
    {
     "data": {
      "text/plain": [
       "[1, 2, 3, 4]"
      ]
     },
     "execution_count": 20,
     "metadata": {},
     "output_type": "execute_result"
    }
   ],
   "source": [
    "my_list.pop()\n",
    "my_list"
   ]
  },
  {
   "cell_type": "code",
   "execution_count": 22,
   "id": "f8edbe15-48e3-4b9d-b9a5-8cb5073daa84",
   "metadata": {},
   "outputs": [
    {
     "data": {
      "text/plain": [
       "3"
      ]
     },
     "execution_count": 22,
     "metadata": {},
     "output_type": "execute_result"
    }
   ],
   "source": [
    "#specific index delete\n",
    "my_list.pop(2)"
   ]
  },
  {
   "cell_type": "code",
   "execution_count": 23,
   "id": "8d51f139-50b8-4dbd-b49a-2f0a7496e17e",
   "metadata": {},
   "outputs": [
    {
     "data": {
      "text/plain": [
       "[1, 2, 4]"
      ]
     },
     "execution_count": 23,
     "metadata": {},
     "output_type": "execute_result"
    }
   ],
   "source": [
    "my_list"
   ]
  },
  {
   "cell_type": "markdown",
   "id": "364b86ea-fd31-463b-8a6b-80c9cf107f47",
   "metadata": {},
   "source": [
    "# creaing a list using list constructor"
   ]
  },
  {
   "cell_type": "code",
   "execution_count": 25,
   "id": "2e295a4b-2373-4448-b2d3-a9f26e5cedb6",
   "metadata": {},
   "outputs": [],
   "source": [
    "l2=list(('ái',1,3,4,5,(6,7,8)))\n"
   ]
  },
  {
   "cell_type": "code",
   "execution_count": 26,
   "id": "378819fa-64e7-4cf5-80df-c23f17e7b11b",
   "metadata": {},
   "outputs": [
    {
     "data": {
      "text/plain": [
       "['ái', 1, 3, 4, 5, (6, 7, 8)]"
      ]
     },
     "execution_count": 26,
     "metadata": {},
     "output_type": "execute_result"
    }
   ],
   "source": [
    "l2\n"
   ]
  },
  {
   "cell_type": "markdown",
   "id": "3efd891f-2187-40f8-9b6f-c16fe4ac1821",
   "metadata": {},
   "source": [
    "# input list from user"
   ]
  },
  {
   "cell_type": "code",
   "execution_count": 29,
   "id": "af19008f-2980-4103-b5b6-58fff230f700",
   "metadata": {},
   "outputs": [
    {
     "name": "stdin",
     "output_type": "stream",
     "text": [
      "Enter your total index 3\n",
      " 1\n"
     ]
    },
    {
     "name": "stdout",
     "output_type": "stream",
     "text": [
      "['1']\n"
     ]
    },
    {
     "name": "stdin",
     "output_type": "stream",
     "text": [
      " 2\n"
     ]
    },
    {
     "name": "stdout",
     "output_type": "stream",
     "text": [
      "['1', '2']\n"
     ]
    },
    {
     "name": "stdin",
     "output_type": "stream",
     "text": [
      " 3\n"
     ]
    },
    {
     "name": "stdout",
     "output_type": "stream",
     "text": [
      "['1', '2', '3']\n",
      "Final list is : ['1', '2', '3']\n"
     ]
    }
   ],
   "source": [
    "l3=[];\n",
    "n= int(input('Enter your total index'));\n",
    "\n",
    "for i in range(n):\n",
    "    new= input();\n",
    "    l3.append(new);\n",
    "    print(l3);\n",
    "\n",
    "print('Final list is :',l3);"
   ]
  },
  {
   "cell_type": "markdown",
   "id": "42664bf1-d937-41b8-98f9-bc6e62e8eaf3",
   "metadata": {},
   "source": [
    "# copy()"
   ]
  },
  {
   "cell_type": "code",
   "execution_count": 30,
   "id": "92d9cb7d-1086-4125-b80a-9701ff77253b",
   "metadata": {},
   "outputs": [
    {
     "data": {
      "text/plain": [
       "[1, 2, 3, 4, 5]"
      ]
     },
     "execution_count": 30,
     "metadata": {},
     "output_type": "execute_result"
    }
   ],
   "source": [
    "list1=[1,2,3,4,5];\n",
    "list2=list1.copy();\n",
    "list2"
   ]
  },
  {
   "cell_type": "code",
   "execution_count": 32,
   "id": "6cdf3bc5-7a3a-49c2-b48c-4037d3a75f3c",
   "metadata": {},
   "outputs": [],
   "source": [
    "list1.append(6);"
   ]
  },
  {
   "cell_type": "code",
   "execution_count": 33,
   "id": "713d7c49-602d-456f-b1d8-d129e5c1250b",
   "metadata": {},
   "outputs": [
    {
     "data": {
      "text/plain": [
       "[1, 2, 3, 4, 5, 6]"
      ]
     },
     "execution_count": 33,
     "metadata": {},
     "output_type": "execute_result"
    }
   ],
   "source": [
    "list1\n"
   ]
  },
  {
   "cell_type": "code",
   "execution_count": 34,
   "id": "cc5c45d3-ec2d-42bb-ade3-cc2c593c9ebf",
   "metadata": {},
   "outputs": [
    {
     "data": {
      "text/plain": [
       "[1, 2, 3, 4, 5]"
      ]
     },
     "execution_count": 34,
     "metadata": {},
     "output_type": "execute_result"
    }
   ],
   "source": [
    "list2\n"
   ]
  },
  {
   "cell_type": "code",
   "execution_count": 36,
   "id": "ba6c8499-bfac-496a-bace-c4494cb114bf",
   "metadata": {},
   "outputs": [],
   "source": [
    "#remove() use for delete any element of the list \n",
    "list1.remove(4);"
   ]
  },
  {
   "cell_type": "code",
   "execution_count": 37,
   "id": "fa8ee138-3860-4c41-b3be-f86074cbc997",
   "metadata": {},
   "outputs": [
    {
     "data": {
      "text/plain": [
       "[1, 2, 3, 5, 6]"
      ]
     },
     "execution_count": 37,
     "metadata": {},
     "output_type": "execute_result"
    }
   ],
   "source": [
    "list1"
   ]
  },
  {
   "cell_type": "markdown",
   "id": "9aa64fce-e46a-41ba-85d5-caff728d7767",
   "metadata": {},
   "source": [
    "# Insert() use for insert a new value (index, value) expect two argument "
   ]
  },
  {
   "cell_type": "code",
   "execution_count": 38,
   "id": "566011bc-dea3-42eb-a4a8-db7c8618d2e2",
   "metadata": {},
   "outputs": [],
   "source": [
    "list1.insert(0,'Germany');"
   ]
  },
  {
   "cell_type": "code",
   "execution_count": 39,
   "id": "93d69d5d-5eb0-4b85-a3f1-8e3af3553a3d",
   "metadata": {},
   "outputs": [
    {
     "data": {
      "text/plain": [
       "['Germany', 1, 2, 3, 5, 6]"
      ]
     },
     "execution_count": 39,
     "metadata": {},
     "output_type": "execute_result"
    }
   ],
   "source": [
    "list1"
   ]
  },
  {
   "cell_type": "markdown",
   "id": "26711e0e-96b5-432c-9e13-a4fa75f991c8",
   "metadata": {},
   "source": [
    "# index() use for determine exact index of specific value "
   ]
  },
  {
   "cell_type": "code",
   "execution_count": 46,
   "id": "8f4781dd-8799-4cb1-b324-072f3a90f5ea",
   "metadata": {},
   "outputs": [
    {
     "data": {
      "text/plain": [
       "4"
      ]
     },
     "execution_count": 46,
     "metadata": {},
     "output_type": "execute_result"
    }
   ],
   "source": [
    "list1.index(5)"
   ]
  },
  {
   "cell_type": "markdown",
   "id": "aa64d782-f25d-4def-b194-914dcb012858",
   "metadata": {},
   "source": [
    "# count(), use for count similar value of a list "
   ]
  },
  {
   "cell_type": "code",
   "execution_count": 49,
   "id": "31b4f14a-6f6d-4f1d-8fbb-115481c078f7",
   "metadata": {},
   "outputs": [
    {
     "data": {
      "text/plain": [
       "1"
      ]
     },
     "execution_count": 49,
     "metadata": {},
     "output_type": "execute_result"
    }
   ],
   "source": [
    "list1.count(1)"
   ]
  },
  {
   "cell_type": "code",
   "execution_count": 50,
   "id": "7d36d757-c284-4481-b556-416087dfe89a",
   "metadata": {},
   "outputs": [],
   "source": [
    "list1.append(4)"
   ]
  },
  {
   "cell_type": "markdown",
   "id": "d3a6ae64-45ba-4b80-be75-496a5f72293a",
   "metadata": {},
   "source": [
    "# sort() is use for sorting all value of a list assending order "
   ]
  },
  {
   "cell_type": "code",
   "execution_count": 52,
   "id": "3af97d90-ece2-4d9f-a3f0-3314790275dc",
   "metadata": {},
   "outputs": [],
   "source": [
    "list2.append(0)"
   ]
  },
  {
   "cell_type": "code",
   "execution_count": 57,
   "id": "3a45ed33-2a15-4206-b532-8b772acc77d3",
   "metadata": {},
   "outputs": [],
   "source": [
    "list2.sort()"
   ]
  },
  {
   "cell_type": "code",
   "execution_count": 58,
   "id": "019dc5cb-66dc-4f7a-8ea8-98a76775cd9d",
   "metadata": {},
   "outputs": [
    {
     "data": {
      "text/plain": [
       "[0, 1, 2, 3, 4, 5]"
      ]
     },
     "execution_count": 58,
     "metadata": {},
     "output_type": "execute_result"
    }
   ],
   "source": [
    "list2"
   ]
  },
  {
   "cell_type": "markdown",
   "id": "a3a04c6b-4094-442f-bc6b-8da5341e6b4d",
   "metadata": {},
   "source": [
    "# reverse() is use for reverse all value of a list from last to first "
   ]
  },
  {
   "cell_type": "code",
   "execution_count": 59,
   "id": "49eeedcb-b03f-4be3-a7ab-fb659bcee61e",
   "metadata": {},
   "outputs": [
    {
     "data": {
      "text/plain": [
       "[5, 4, 3, 2, 1, 0]"
      ]
     },
     "execution_count": 59,
     "metadata": {},
     "output_type": "execute_result"
    }
   ],
   "source": [
    "list2.reverse()\n",
    "list2"
   ]
  },
  {
   "cell_type": "markdown",
   "id": "492d512e-3f2e-40ef-a8ea-db456dc8b7f7",
   "metadata": {},
   "source": [
    "# remove() is use for specific value delete "
   ]
  },
  {
   "cell_type": "code",
   "execution_count": 60,
   "id": "5b87af55-c4e8-4a37-9297-3cff5bf4597b",
   "metadata": {},
   "outputs": [],
   "source": [
    "list2.remove(2)"
   ]
  },
  {
   "cell_type": "code",
   "execution_count": 61,
   "id": "d8174f2f-14a6-4e1a-8ec6-19326a96c0ea",
   "metadata": {},
   "outputs": [
    {
     "data": {
      "text/plain": [
       "[5, 4, 3, 1, 0]"
      ]
     },
     "execution_count": 61,
     "metadata": {},
     "output_type": "execute_result"
    }
   ],
   "source": [
    "list2\n"
   ]
  }
 ],
 "metadata": {
  "kernelspec": {
   "display_name": "Python 3 (ipykernel)",
   "language": "python",
   "name": "python3"
  },
  "language_info": {
   "codemirror_mode": {
    "name": "ipython",
    "version": 3
   },
   "file_extension": ".py",
   "mimetype": "text/x-python",
   "name": "python",
   "nbconvert_exporter": "python",
   "pygments_lexer": "ipython3",
   "version": "3.11.2"
  }
 },
 "nbformat": 4,
 "nbformat_minor": 5
}
