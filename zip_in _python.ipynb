{
 "cells": [
  {
   "cell_type": "code",
   "execution_count": 2,
   "id": "59dca664-b10d-4eb5-b7d5-158ddf3a1b77",
   "metadata": {},
   "outputs": [],
   "source": [
    "name=['asad','sabbir','sarhady'];\n",
    "versity=['du','mec','cu'];\n"
   ]
  },
  {
   "cell_type": "code",
   "execution_count": 3,
   "id": "ffe9cd25-45f6-40ed-bd11-3c8affbb3fce",
   "metadata": {},
   "outputs": [
    {
     "name": "stdout",
     "output_type": "stream",
     "text": [
      "<zip object at 0x0000021793404240>\n"
     ]
    }
   ],
   "source": [
    "zipped =zip(name,versity)\n",
    "print(zipped)"
   ]
  },
  {
   "cell_type": "code",
   "execution_count": 4,
   "id": "8dc94073-f16a-4006-9547-b575252bc0c2",
   "metadata": {},
   "outputs": [
    {
     "name": "stdout",
     "output_type": "stream",
     "text": [
      "[('asad', 'du'), ('sabbir', 'mec'), ('sarhady', 'cu')]\n"
     ]
    }
   ],
   "source": [
    "zipped1 =list(zip(name,versity))\n",
    "print(zipped1)"
   ]
  },
  {
   "cell_type": "code",
   "execution_count": 7,
   "id": "1078894c-24db-4bfb-8dce-92b82380fc19",
   "metadata": {},
   "outputs": [
    {
     "name": "stdout",
     "output_type": "stream",
     "text": [
      "{'asad': 'du', 'sabbir': 'mec', 'sarhady': 'cu'}\n"
     ]
    }
   ],
   "source": [
    "zipped2 =dict(zip(name,versity))\n",
    "print(zipped2)"
   ]
  },
  {
   "cell_type": "code",
   "execution_count": 8,
   "id": "4a1230f3-5a9a-4373-bf45-18773578b795",
   "metadata": {},
   "outputs": [
    {
     "name": "stdout",
     "output_type": "stream",
     "text": [
      "(('asad', 'du'), ('sabbir', 'mec'), ('sarhady', 'cu'))\n"
     ]
    }
   ],
   "source": [
    "zipped3 =tuple(zip(name,versity))\n",
    "print(zipped3)"
   ]
  },
  {
   "cell_type": "code",
   "execution_count": 10,
   "id": "89fae856-dd8c-44c8-ac65-78f41606d5c4",
   "metadata": {},
   "outputs": [
    {
     "name": "stdout",
     "output_type": "stream",
     "text": [
      "{('sabbir', 'mec'), ('asad', 'du'), ('sarhady', 'cu')}\n"
     ]
    }
   ],
   "source": [
    "zipped4 =set(zip(name,versity))\n",
    "print(zipped4)"
   ]
  },
  {
   "cell_type": "markdown",
   "id": "5e3e8f18-dcdb-4503-a3b7-75c61d2fe716",
   "metadata": {},
   "source": [
    "# Unzip"
   ]
  },
  {
   "cell_type": "code",
   "execution_count": 11,
   "id": "22bcd80c-f347-4ef7-a7bb-091468573cfe",
   "metadata": {},
   "outputs": [],
   "source": [
    "name,versity = zip(*zipped1)"
   ]
  },
  {
   "cell_type": "code",
   "execution_count": 12,
   "id": "91300d7a-c85e-4432-b559-c98c244b6ff2",
   "metadata": {},
   "outputs": [
    {
     "data": {
      "text/plain": [
       "('asad', 'sabbir', 'sarhady')"
      ]
     },
     "execution_count": 12,
     "metadata": {},
     "output_type": "execute_result"
    }
   ],
   "source": [
    "name"
   ]
  },
  {
   "cell_type": "code",
   "execution_count": 13,
   "id": "c36ec173-c337-46c9-851d-e0c140597232",
   "metadata": {},
   "outputs": [
    {
     "data": {
      "text/plain": [
       "('du', 'mec', 'cu')"
      ]
     },
     "execution_count": 13,
     "metadata": {},
     "output_type": "execute_result"
    }
   ],
   "source": [
    "versity"
   ]
  }
 ],
 "metadata": {
  "kernelspec": {
   "display_name": "Python 3 (ipykernel)",
   "language": "python",
   "name": "python3"
  },
  "language_info": {
   "codemirror_mode": {
    "name": "ipython",
    "version": 3
   },
   "file_extension": ".py",
   "mimetype": "text/x-python",
   "name": "python",
   "nbconvert_exporter": "python",
   "pygments_lexer": "ipython3",
   "version": "3.11.2"
  }
 },
 "nbformat": 4,
 "nbformat_minor": 5
}
