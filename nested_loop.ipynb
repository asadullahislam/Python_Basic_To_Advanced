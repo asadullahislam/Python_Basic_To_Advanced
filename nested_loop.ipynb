{
 "cells": [
  {
   "cell_type": "code",
   "execution_count": 25,
   "id": "0dddf746-18df-440c-9eeb-c5dec21524a5",
   "metadata": {},
   "outputs": [
    {
     "name": "stdout",
     "output_type": "stream",
     "text": [
      "# \n",
      "# # \n",
      "# # # \n",
      "# # # # \n"
     ]
    }
   ],
   "source": [
    "\n",
    " rows=4;\n",
    "#outer loop\n",
    "for x in range(1,rows+1):\n",
    "    for y in range(1,x+1):\n",
    "        print('#',end=' ')\n",
    "    print('');\n",
    "     "
   ]
  },
  {
   "cell_type": "code",
   "execution_count": 27,
   "id": "fa805293-609f-4c62-895f-f87ea50da689",
   "metadata": {},
   "outputs": [
    {
     "name": "stdout",
     "output_type": "stream",
     "text": [
      "1 2 3 4 \n",
      "\n",
      "1 2 3 4 \n",
      "\n",
      "1 2 3 4 \n",
      "\n",
      "1 2 3 4 \n",
      "\n"
     ]
    }
   ],
   "source": [
    "num=[1,2,3,4];\n",
    "#outer\n",
    "for ele in num:\n",
    "    #inner\n",
    "    index= 0;\n",
    "    while index < len(num):\n",
    "        print(num[index], end=' ');\n",
    "        index=index+1;\n",
    "\n",
    "    print('\\n')"
   ]
  }
 ],
 "metadata": {
  "kernelspec": {
   "display_name": "Python 3 (ipykernel)",
   "language": "python",
   "name": "python3"
  },
  "language_info": {
   "codemirror_mode": {
    "name": "ipython",
    "version": 3
   },
   "file_extension": ".py",
   "mimetype": "text/x-python",
   "name": "python",
   "nbconvert_exporter": "python",
   "pygments_lexer": "ipython3",
   "version": "3.11.2"
  }
 },
 "nbformat": 4,
 "nbformat_minor": 5
}
